{
  "cells": [
    {
      "cell_type": "markdown",
      "metadata": {
        "id": "Li0bVCTuxc6n"
      },
      "source": [
        "<div align=\"center\">\n",
        "\n",
        "# National Tsing Hua University\n",
        "\n",
        "### Fall 2023\n",
        "\n",
        "#### 11210IPT 553000\n",
        "\n",
        "#### Deep Learning in Biomedical Optical Imaging\n",
        "\n",
        "## Lab 4: Build a Convolution Neural Network\n",
        "\n",
        "</div>\n"
      ]
    },
    {
      "cell_type": "code",
      "execution_count": 1,
      "metadata": {
        "id": "mGJcRwdzM7pS",
        "outputId": "a033f7d5-bbb2-496d-f8f5-469533e33660",
        "colab": {
          "base_uri": "https://localhost:8080/"
        }
      },
      "outputs": [
        {
          "output_type": "stream",
          "name": "stdout",
          "text": [
            "--2023-10-30 14:41:59--  https://raw.githubusercontent.com/TacoXDD/homeworks/master/dataset/train/normal.npy\n",
            "Resolving raw.githubusercontent.com (raw.githubusercontent.com)... 185.199.108.133, 185.199.109.133, 185.199.110.133, ...\n",
            "Connecting to raw.githubusercontent.com (raw.githubusercontent.com)|185.199.108.133|:443... connected.\n",
            "HTTP request sent, awaiting response... 200 OK\n",
            "Length: 65536128 (62M) [application/octet-stream]\n",
            "Saving to: ‘normal.npy’\n",
            "\n",
            "normal.npy          100%[===================>]  62.50M   260MB/s    in 0.2s    \n",
            "\n",
            "2023-10-30 14:42:00 (260 MB/s) - ‘normal.npy’ saved [65536128/65536128]\n",
            "\n",
            "--2023-10-30 14:42:00--  https://raw.githubusercontent.com/TacoXDD/homeworks/master/dataset/train/pneumonia.npy\n",
            "Resolving raw.githubusercontent.com (raw.githubusercontent.com)... 185.199.108.133, 185.199.109.133, 185.199.110.133, ...\n",
            "Connecting to raw.githubusercontent.com (raw.githubusercontent.com)|185.199.108.133|:443... connected.\n",
            "HTTP request sent, awaiting response... 200 OK\n",
            "Length: 65536128 (62M) [application/octet-stream]\n",
            "Saving to: ‘pneumonia.npy’\n",
            "\n",
            "pneumonia.npy       100%[===================>]  62.50M   188MB/s    in 0.3s    \n",
            "\n",
            "2023-10-30 14:42:02 (188 MB/s) - ‘pneumonia.npy’ saved [65536128/65536128]\n",
            "\n"
          ]
        }
      ],
      "source": [
        "# Download dataset\n",
        "!wget https://raw.githubusercontent.com/TacoXDD/homeworks/master/dataset/train/normal.npy\n",
        "!wget https://raw.githubusercontent.com/TacoXDD/homeworks/master/dataset/train/pneumonia.npy"
      ]
    },
    {
      "cell_type": "markdown",
      "metadata": {
        "id": "w-1PsC--M7pT"
      },
      "source": [
        "## A. Data Loading and Preprocessing\n",
        "\n",
        "In Convolutional Neural Networks (CNNs), the convolution operation expects the input to have a specific shape, typically denoted as `[batch_size, channels, height, width]`. The \"channels\" dimension refers to the number of input channels (or depth) of the input data.\n",
        "\n",
        "For standard RGB images, this channels value is 3 (for red, green, and blue). For grayscale images, there's only one channel. For more specialized data, there could be more channels. For example, medical imaging modalities like MRI or CT can sometimes have multiple channels representing different types of scans or different views of the same scan.\n",
        "\n",
        "When working with data that doesn't naturally have a channels dimension (e.g., plain grayscale image arrays that are just `[height, width]`), you need to explicitly add a channels dimension to match the expected input format of the CNN. This is done using `.unsqueeze(1)` which adds an additional dimension at the 1st position (0-indexed), converting a shape like `[batch_size, height, width]` to `[batch_size, 1, height, width]`. The \"1\" here indicates a single channel.\n"
      ]
    },
    {
      "cell_type": "code",
      "execution_count": 2,
      "metadata": {
        "id": "oScQ0GG6xc6r",
        "outputId": "0c4bab14-f0b7-4356-8879-58b461b63b5d",
        "colab": {
          "base_uri": "https://localhost:8080/"
        }
      },
      "outputs": [
        {
          "output_type": "stream",
          "name": "stdout",
          "text": [
            "Shape of abnormal_scans: (1000, 256, 256)\n",
            "Shape of normal_scans: (1000, 256, 256)\n",
            "Number of samples in train and validation are 1600 and 400.\n",
            "X_train: max value is 255.0, min value is 0.0, data type is torch.float32.\n"
          ]
        }
      ],
      "source": [
        "import torch\n",
        "from torch.utils.data import DataLoader, TensorDataset, random_split\n",
        "\n",
        "import numpy as np\n",
        "\n",
        "# Load Dataset\n",
        "abnormal_scans = np.load('pneumonia.npy')\n",
        "normal_scans = np.load('normal.npy')\n",
        "\n",
        "print(f'Shape of abnormal_scans: {abnormal_scans.shape}')\n",
        "print(f'Shape of normal_scans: {normal_scans.shape}')\n",
        "\n",
        "# For the data having presence of pneumonia assign 1, for the normal ones assign 0.\n",
        "\n",
        "abnormal_labels = np.ones((abnormal_scans.shape[0],))\n",
        "normal_labels = np.zeros((normal_scans.shape[0],))\n",
        "\n",
        "split_point = 800\n",
        "\n",
        "x_train = np.concatenate((abnormal_scans[:split_point], normal_scans[:split_point]), axis=0)\n",
        "y_train = np.concatenate((abnormal_labels[:split_point], normal_labels[:split_point]), axis=0)\n",
        "x_val = np.concatenate((abnormal_scans[split_point:], normal_scans[split_point:]), axis=0)\n",
        "y_val = np.concatenate((abnormal_labels[split_point:], normal_labels[split_point:]), axis=0)\n",
        "\n",
        "# Convert to PyTorch tensors\n",
        "x_train = torch.from_numpy(x_train).float().unsqueeze(1)\n",
        "y_train = torch.from_numpy(y_train).long()\n",
        "x_val = torch.from_numpy(x_val).float().unsqueeze(1)\n",
        "y_val = torch.from_numpy(y_val).long()\n",
        "\n",
        "# Create datasets\n",
        "train_dataset = TensorDataset(x_train, y_train)\n",
        "val_dataset = TensorDataset(x_val, y_val)\n",
        "\n",
        "# Create dataloaders\n",
        "train_loader = DataLoader(train_dataset, batch_size=32, shuffle=True)\n",
        "val_loader = DataLoader(val_dataset, batch_size=32, shuffle=False)\n",
        "\n",
        "print(f'Number of samples in train and validation are {len(train_loader.dataset)} and {len(val_loader.dataset)}.')\n",
        "print(f'X_train: max value is {x_train.max().item()}, min value is {x_train.min().item()}, data type is {x_train.dtype}.')"
      ]
    },
    {
      "cell_type": "markdown",
      "metadata": {
        "id": "oaLGtT28xc6s"
      },
      "source": [
        "## B. Defining Neural Networks\n",
        "\n",
        "### 1. Use the **Class**\n",
        "\n",
        "In PyTorch, we define our custom neural network architectures by subclassing the `nn.Module` class. This gives our neural network all the functionality it needs to work with PyTorch's other utilities and keeps our implementation organized.\n",
        "\n",
        "- Neural networks are defined by subclassing `nn.Module`.\n",
        "- The layers of the neural network are initialized in the `__init__` method.\n",
        "- The forward pass operations on input data are defined in the `forward` method.\n",
        "\n",
        "It's worth noting that while we only define the forward pass, PyTorch will automatically derive the backward pass for us, which is used during training to update the model's weights.\""
      ]
    },
    {
      "cell_type": "markdown",
      "metadata": {
        "id": "JlT1bJDq-BMu"
      },
      "source": [
        "```python\n",
        "import torch.nn as nn\n",
        "import torch.nn.functional as F\n",
        "\n",
        "# model = nn.Sequential(\n",
        "#     nn.Flatten(),\n",
        "#     nn.Linear(256*256*1, 32), # 1st FC\n",
        "#     nn.ReLU(),\n",
        "#     nn.Linear(32, 32),        # 2nd FC\n",
        "#     nn.ReLU(),\n",
        "#     nn.Linear(32, 32),        # 3rd FC\n",
        "#     nn.ReLU(),\n",
        "#     nn.Linear(32, 1)          # 4th FC\n",
        "# ).cuda()\n",
        "\n",
        "class LinearModel(nn.Module):\n",
        "    def __init__(self):\n",
        "        super().__init__()\n",
        "        self.flatten = nn.Flatten()\n",
        "        self.fc1 = nn.Linear(256*256*1, 32)\n",
        "        self.fc2 = nn.Linear(32, 32)\n",
        "        self.fc3 = nn.Linear(32, 32)\n",
        "        self.fc4 = nn.Linear(32, 1)\n",
        "\n",
        "    def forward(self, x):\n",
        "        x = self.flatten(x)\n",
        "        x = F.relu(self.fc1(x))\n",
        "        x = F.relu(self.fc2(x))\n",
        "        x = F.relu(self.fc3(x))\n",
        "        return self.fc4(x)\n",
        "\n",
        "model = LinearModel()\n",
        "print(model)\n",
        "```\n",
        "\n",
        "```\n",
        "LinearModel(\n",
        "  (flatten): Flatten(start_dim=1, end_dim=-1)\n",
        "  (fc1): Linear(in_features=65536, out_features=32, bias=True)\n",
        "  (fc2): Linear(in_features=32, out_features=32, bias=True)\n",
        "  (fc3): Linear(in_features=32, out_features=32, bias=True)\n",
        "  (fc4): Linear(in_features=32, out_features=1, bias=True)\n",
        ")\n",
        "```"
      ]
    },
    {
      "cell_type": "code",
      "source": [
        "class LinearModel(nn.Module):\n",
        "    def __init__(self):\n",
        "        super().__init__()\n",
        "        self.flatten = nn.Flatten()\n",
        "        self.fc1 = nn.Linear(256*256*1, 32)\n",
        "        self.fc2 = nn.Linear(32, 32)\n",
        "        self.fc3 = nn.Linear(32, 32)\n",
        "        self.fc4 = nn.Linear(32, 1)\n",
        "\n",
        "    def forward(self, x):\n",
        "        x = self.flatten(x)\n",
        "        x = F.relu(self.fc1(x))\n",
        "        x = F.relu(self.fc2(x))\n",
        "        x = F.relu(self.fc3(x))\n",
        "        return self.fc4(x)\n",
        "\n",
        "model = LinearModel()\n",
        "print(model)"
      ],
      "metadata": {
        "colab": {
          "base_uri": "https://localhost:8080/",
          "height": 247
        },
        "id": "rwx8DjyXpP6R",
        "outputId": "5fff5721-49ae-4a80-f784-b2c1ef0922b7"
      },
      "execution_count": 4,
      "outputs": [
        {
          "output_type": "error",
          "ename": "NameError",
          "evalue": "ignored",
          "traceback": [
            "\u001b[0;31m---------------------------------------------------------------------------\u001b[0m",
            "\u001b[0;31mNameError\u001b[0m                                 Traceback (most recent call last)",
            "\u001b[0;32m<ipython-input-4-3546b7bf85c7>\u001b[0m in \u001b[0;36m<cell line: 1>\u001b[0;34m()\u001b[0m\n\u001b[0;32m----> 1\u001b[0;31m \u001b[0;32mclass\u001b[0m \u001b[0mLinearModel\u001b[0m\u001b[0;34m(\u001b[0m\u001b[0mnn\u001b[0m\u001b[0;34m.\u001b[0m\u001b[0mModule\u001b[0m\u001b[0;34m)\u001b[0m\u001b[0;34m:\u001b[0m\u001b[0;34m\u001b[0m\u001b[0;34m\u001b[0m\u001b[0m\n\u001b[0m\u001b[1;32m      2\u001b[0m     \u001b[0;32mdef\u001b[0m \u001b[0m__init__\u001b[0m\u001b[0;34m(\u001b[0m\u001b[0mself\u001b[0m\u001b[0;34m)\u001b[0m\u001b[0;34m:\u001b[0m\u001b[0;34m\u001b[0m\u001b[0;34m\u001b[0m\u001b[0m\n\u001b[1;32m      3\u001b[0m         \u001b[0msuper\u001b[0m\u001b[0;34m(\u001b[0m\u001b[0;34m)\u001b[0m\u001b[0;34m.\u001b[0m\u001b[0m__init__\u001b[0m\u001b[0;34m(\u001b[0m\u001b[0;34m)\u001b[0m\u001b[0;34m\u001b[0m\u001b[0;34m\u001b[0m\u001b[0m\n\u001b[1;32m      4\u001b[0m         \u001b[0mself\u001b[0m\u001b[0;34m.\u001b[0m\u001b[0mflatten\u001b[0m \u001b[0;34m=\u001b[0m \u001b[0mnn\u001b[0m\u001b[0;34m.\u001b[0m\u001b[0mFlatten\u001b[0m\u001b[0;34m(\u001b[0m\u001b[0;34m)\u001b[0m\u001b[0;34m\u001b[0m\u001b[0;34m\u001b[0m\u001b[0m\n\u001b[1;32m      5\u001b[0m         \u001b[0mself\u001b[0m\u001b[0;34m.\u001b[0m\u001b[0mfc1\u001b[0m \u001b[0;34m=\u001b[0m \u001b[0mnn\u001b[0m\u001b[0;34m.\u001b[0m\u001b[0mLinear\u001b[0m\u001b[0;34m(\u001b[0m\u001b[0;36m256\u001b[0m\u001b[0;34m*\u001b[0m\u001b[0;36m256\u001b[0m\u001b[0;34m*\u001b[0m\u001b[0;36m1\u001b[0m\u001b[0;34m,\u001b[0m \u001b[0;36m32\u001b[0m\u001b[0;34m)\u001b[0m\u001b[0;34m\u001b[0m\u001b[0;34m\u001b[0m\u001b[0m\n",
            "\u001b[0;31mNameError\u001b[0m: name 'nn' is not defined"
          ]
        }
      ]
    },
    {
      "cell_type": "markdown",
      "metadata": {
        "id": "PEm3bd-S-BMv"
      },
      "source": [
        "### 2. ann2cnn\n",
        "\n",
        "To transition a model from an ANN to a CNN using `nn.Conv2d` layers, we make the following changes:\n",
        "\n",
        "- Replace `nn.Linear` layers with `nn.Conv2d` layers for the initial layers.\n",
        "- Add pooling layers after convolutional layers for spatial dimension reduction.\n",
        "- Introduce a flattening step before transitioning to fully connected layers.\n",
        "- Adjust the `forward` method to handle the convolutional and pooling operations and reshaping."
      ]
    },
    {
      "cell_type": "code",
      "execution_count": 5,
      "metadata": {
        "id": "Osuj_yyz-BMv"
      },
      "outputs": [],
      "source": [
        "import torch.nn as nn\n",
        "import torch.nn.functional as F\n",
        "\n",
        "class ConvModel(nn.Module):\n",
        "    def __init__(self):\n",
        "        super().__init__()\n",
        "\n",
        "        # 1 channel, and using 3x3 kernels for simplicity, 256*256\n",
        "        self.conv1 = nn.Conv2d(1, 32, kernel_size=3, stride=1, padding='same')\n",
        "        self.pool1 = nn.MaxPool2d(kernel_size=2, stride=2) # 128*128\n",
        "\n",
        "        self.conv2 = nn.Conv2d(32, 32, kernel_size=3, stride=1, padding='same') # 128*128\n",
        "        self.pool2 = nn.MaxPool2d(kernel_size=2, stride=2) # 64*64\n",
        "\n",
        "        self.conv3 = nn.Conv2d(32, 32, kernel_size=3, stride=1, padding='same') # 64*64\n",
        "        self.pool3 = nn.MaxPool2d(kernel_size=2, stride=2) # 32*32\n",
        "\n",
        "        flattened_dim = 32 * 32 * 32  #channel數是32\n",
        "\n",
        "        self.fc1 = nn.Linear(flattened_dim, 32)\n",
        "        self.fc2 = nn.Linear(32, 1)\n",
        "        self.dropout = nn.Dropout(0.6)\n",
        "    def forward(self, x):\n",
        "        x = F.relu(self.conv1(x))\n",
        "        x = self.pool1(x)\n",
        "\n",
        "        x = F.relu(self.conv2(x))\n",
        "        x = self.pool2(x)\n",
        "\n",
        "        x = F.relu(self.conv3(x))\n",
        "        x = self.pool3(x)\n",
        "\n",
        "        x = x.reshape(x.size(0), -1)  # x.size(0) is the batch size\n",
        "\n",
        "        x = F.relu(self.fc1(x))\n",
        "        x = self.dropout(x)\n",
        "\n",
        "        return self.fc2(x)"
      ]
    },
    {
      "cell_type": "code",
      "execution_count": 23,
      "metadata": {
        "id": "vaWiRI_L-BMw"
      },
      "outputs": [],
      "source": [
        "class ConvGAP(nn.Module):#slice很特別的東西，新的架構\n",
        "    def __init__(self):\n",
        "        super().__init__()\n",
        "\n",
        "        self.net = nn.Sequential(\n",
        "            nn.Conv2d(1, 32, kernel_size=3, stride=1, padding='same') ,\n",
        "            nn.ReLU(),\n",
        "            nn.MaxPool2d(kernel_size=2, stride=2), # 128*128\n",
        "            nn.Conv2d(32, 32, kernel_size=3, stride=1, padding='same'), # 128*128\n",
        "            nn.ReLU(),\n",
        "            nn.MaxPool2d(kernel_size=2, stride=2), # 64*64\n",
        "            nn.Conv2d(32, 32, kernel_size=3, stride=1, padding='same'), # 64*64\n",
        "            nn.ReLU(),\n",
        "            nn.Conv2d(32, 32, kernel_size=3, stride=1, padding='same'), # 64*64\n",
        "            nn.ReLU(),\n",
        "\n",
        "            nn.MaxPool2d(kernel_size=2, stride=2), # 32*32\n",
        "\n",
        "            nn.AdaptiveAvgPool2d(1),\n",
        "            nn.Flatten(),\n",
        "            nn.Linear(32, 1)\n",
        "        )\n",
        "\n",
        "\n",
        "    def forward(self, x):\n",
        "        x = self.net(x)\n",
        "        return x"
      ]
    },
    {
      "cell_type": "markdown",
      "metadata": {
        "id": "nvLTU-IfZLqn"
      },
      "source": [
        "## C. Training the Neural Network\n",
        "\n",
        "`model = model.cuda()` moves the model's parameters and buffers to the GPU memory."
      ]
    },
    {
      "cell_type": "code",
      "execution_count": 24,
      "metadata": {
        "id": "45ol4lpVxc6t",
        "colab": {
          "referenced_widgets": [
            "eccbb769975f4b55bf10c519e9a10dad",
            "3f98bbf5a6f3426ba89205f4db72a6d4",
            "755de3373b6b4f4da0e1ea5b2c103450",
            "363d7b240be04aee8eb0931446f62da9",
            "9a8daec72396422c98f1e1837e411e5c",
            "ca0b4b8333b54ecc8bec91683178b2b2",
            "c53580eba30843d19422addad13f0abd",
            "c58e5497b8ab4becbf7a02d90f0f30b7",
            "c07a1504bd4a43b49d37548657a3aefb",
            "4cd80e66fbb843d69cbe674182ea93e4",
            "d10ff9323cc94a1cb2fa9e8a35eb2061"
          ],
          "base_uri": "https://localhost:8080/",
          "height": 882
        },
        "outputId": "32da379b-d2ce-484c-c2d4-e6427c4ef819"
      },
      "outputs": [
        {
          "output_type": "stream",
          "name": "stdout",
          "text": [
            "ConvGAP(\n",
            "  (net): Sequential(\n",
            "    (0): Conv2d(1, 32, kernel_size=(3, 3), stride=(1, 1), padding=same)\n",
            "    (1): ReLU()\n",
            "    (2): MaxPool2d(kernel_size=2, stride=2, padding=0, dilation=1, ceil_mode=False)\n",
            "    (3): Conv2d(32, 32, kernel_size=(3, 3), stride=(1, 1), padding=same)\n",
            "    (4): ReLU()\n",
            "    (5): MaxPool2d(kernel_size=2, stride=2, padding=0, dilation=1, ceil_mode=False)\n",
            "    (6): Conv2d(32, 32, kernel_size=(3, 3), stride=(1, 1), padding=same)\n",
            "    (7): ReLU()\n",
            "    (8): Conv2d(32, 32, kernel_size=(3, 3), stride=(1, 1), padding=same)\n",
            "    (9): ReLU()\n",
            "    (10): MaxPool2d(kernel_size=2, stride=2, padding=0, dilation=1, ceil_mode=False)\n",
            "    (11): AdaptiveAvgPool2d(output_size=1)\n",
            "    (12): Flatten(start_dim=1, end_dim=-1)\n",
            "    (13): Linear(in_features=32, out_features=1, bias=True)\n",
            "  )\n",
            ")\n"
          ]
        },
        {
          "output_type": "display_data",
          "data": {
            "text/plain": [
              "  0%|          | 0/30 [00:00<?, ?it/s]"
            ],
            "application/vnd.jupyter.widget-view+json": {
              "version_major": 2,
              "version_minor": 0,
              "model_id": "eccbb769975f4b55bf10c519e9a10dad"
            }
          },
          "metadata": {}
        },
        {
          "output_type": "stream",
          "name": "stdout",
          "text": [
            "Epoch 1/30, Train loss: 0.6944, Train acc: 52.62%, Val loss: 0.6958, Val acc: 50.00%, Best Val loss: 0.6958 Best Val acc: 50.00%\n",
            "Epoch 2/30, Train loss: 0.6892, Train acc: 53.44%, Val loss: 0.7088, Val acc: 50.00%, Best Val loss: 0.6958 Best Val acc: 50.00%\n",
            "Epoch 3/30, Train loss: 0.6782, Train acc: 63.50%, Val loss: 0.6312, Val acc: 76.75%, Best Val loss: 0.6312 Best Val acc: 76.75%\n",
            "Epoch 4/30, Train loss: 0.6242, Train acc: 70.38%, Val loss: 0.6224, Val acc: 59.50%, Best Val loss: 0.6224 Best Val acc: 76.75%\n",
            "Epoch 5/30, Train loss: 0.5502, Train acc: 75.25%, Val loss: 0.4536, Val acc: 82.75%, Best Val loss: 0.4536 Best Val acc: 82.75%\n",
            "Epoch 6/30, Train loss: 0.4665, Train acc: 80.12%, Val loss: 0.3791, Val acc: 85.25%, Best Val loss: 0.3791 Best Val acc: 85.25%\n",
            "Epoch 7/30, Train loss: 0.4805, Train acc: 78.62%, Val loss: 0.3916, Val acc: 86.50%, Best Val loss: 0.3791 Best Val acc: 86.50%\n",
            "Epoch 8/30, Train loss: 0.4227, Train acc: 82.06%, Val loss: 0.3312, Val acc: 88.00%, Best Val loss: 0.3312 Best Val acc: 88.00%\n",
            "Epoch 9/30, Train loss: 0.3574, Train acc: 87.75%, Val loss: 0.3046, Val acc: 88.50%, Best Val loss: 0.3046 Best Val acc: 88.50%\n",
            "Epoch 10/30, Train loss: 0.3055, Train acc: 88.31%, Val loss: 0.2544, Val acc: 91.00%, Best Val loss: 0.2544 Best Val acc: 91.00%\n",
            "Epoch 11/30, Train loss: 0.2623, Train acc: 90.62%, Val loss: 0.2449, Val acc: 91.00%, Best Val loss: 0.2449 Best Val acc: 91.00%\n",
            "Epoch 12/30, Train loss: 0.2529, Train acc: 91.56%, Val loss: 0.2404, Val acc: 91.25%, Best Val loss: 0.2404 Best Val acc: 91.25%\n",
            "Epoch 13/30, Train loss: 0.2525, Train acc: 91.00%, Val loss: 0.2376, Val acc: 91.25%, Best Val loss: 0.2376 Best Val acc: 91.25%\n",
            "Epoch 14/30, Train loss: 0.2499, Train acc: 91.06%, Val loss: 0.2383, Val acc: 91.75%, Best Val loss: 0.2376 Best Val acc: 91.75%\n",
            "Epoch 15/30, Train loss: 0.2406, Train acc: 91.56%, Val loss: 0.2594, Val acc: 91.75%, Best Val loss: 0.2376 Best Val acc: 91.75%\n",
            "Epoch 16/30, Train loss: 0.2382, Train acc: 91.56%, Val loss: 0.2310, Val acc: 91.25%, Best Val loss: 0.2310 Best Val acc: 91.75%\n",
            "Epoch 17/30, Train loss: 0.2374, Train acc: 91.50%, Val loss: 0.2363, Val acc: 92.25%, Best Val loss: 0.2310 Best Val acc: 92.25%\n",
            "Epoch 18/30, Train loss: 0.2364, Train acc: 91.25%, Val loss: 0.2400, Val acc: 92.50%, Best Val loss: 0.2310 Best Val acc: 92.50%\n",
            "Epoch 19/30, Train loss: 0.2335, Train acc: 91.31%, Val loss: 0.2252, Val acc: 91.50%, Best Val loss: 0.2252 Best Val acc: 92.50%\n",
            "Epoch 20/30, Train loss: 0.2313, Train acc: 91.50%, Val loss: 0.2252, Val acc: 91.00%, Best Val loss: 0.2252 Best Val acc: 92.50%\n",
            "Epoch 21/30, Train loss: 0.2263, Train acc: 92.00%, Val loss: 0.2264, Val acc: 92.00%, Best Val loss: 0.2252 Best Val acc: 92.50%\n",
            "Epoch 22/30, Train loss: 0.2254, Train acc: 92.06%, Val loss: 0.2240, Val acc: 91.50%, Best Val loss: 0.2240 Best Val acc: 92.50%\n",
            "Epoch 23/30, Train loss: 0.2256, Train acc: 92.00%, Val loss: 0.2239, Val acc: 91.50%, Best Val loss: 0.2239 Best Val acc: 92.50%\n",
            "Epoch 24/30, Train loss: 0.2253, Train acc: 92.00%, Val loss: 0.2236, Val acc: 91.50%, Best Val loss: 0.2236 Best Val acc: 92.50%\n",
            "Epoch 25/30, Train loss: 0.2250, Train acc: 91.81%, Val loss: 0.2247, Val acc: 91.50%, Best Val loss: 0.2236 Best Val acc: 92.50%\n",
            "Epoch 26/30, Train loss: 0.2255, Train acc: 92.00%, Val loss: 0.2245, Val acc: 91.50%, Best Val loss: 0.2236 Best Val acc: 92.50%\n",
            "Epoch 27/30, Train loss: 0.2240, Train acc: 91.94%, Val loss: 0.2244, Val acc: 91.50%, Best Val loss: 0.2236 Best Val acc: 92.50%\n",
            "Epoch 28/30, Train loss: 0.2239, Train acc: 91.88%, Val loss: 0.2251, Val acc: 91.50%, Best Val loss: 0.2236 Best Val acc: 92.50%\n",
            "Epoch 29/30, Train loss: 0.2238, Train acc: 92.06%, Val loss: 0.2230, Val acc: 91.50%, Best Val loss: 0.2230 Best Val acc: 92.50%\n",
            "Epoch 30/30, Train loss: 0.2246, Train acc: 91.81%, Val loss: 0.2311, Val acc: 92.50%, Best Val loss: 0.2230 Best Val acc: 92.50%\n"
          ]
        }
      ],
      "source": [
        "import torch.optim as optim\n",
        "from torch.optim.lr_scheduler import CosineAnnealingLR, StepLR\n",
        "from tqdm.auto import tqdm\n",
        "\n",
        "train_losses = []\n",
        "val_losses = []\n",
        "train_accuracies = []\n",
        "val_accuracies = []\n",
        "\n",
        "epochs = 30\n",
        "\n",
        "# Change you model here\n",
        "model = ConvGAP()\n",
        "print(model)\n",
        "model = model.cuda()\n",
        "\n",
        "best_val_loss = float('inf')\n",
        "best_val_acc = -1\n",
        "\n",
        "criterion = nn.BCEWithLogitsLoss()\n",
        "optimizer = optim.Adam(model.parameters(), lr=1e-3)\n",
        "# lr_scheduler = CosineAnnealingLR(optimizer, T_max=len(train_loader)*epochs, eta_min=0)\n",
        "lr_scheduler = StepLR(optimizer, step_size=10, gamma=0.1)\n",
        "\n",
        "for epoch in tqdm(range(epochs)):\n",
        "    # Training\n",
        "    model.train()\n",
        "    total_loss = 0.0\n",
        "    train_correct = 0\n",
        "    total_train_samples = 0\n",
        "\n",
        "    for images, labels in train_loader:\n",
        "        images = images.cuda()\n",
        "        images = images / 255.\n",
        "        labels = labels.cuda()\n",
        "        optimizer.zero_grad()\n",
        "        outputs = model(images)\n",
        "\n",
        "        labels = labels.float().unsqueeze(1)\n",
        "\n",
        "        loss = criterion(outputs, labels)\n",
        "        loss.backward()\n",
        "        optimizer.step()\n",
        "        total_loss += loss.item()\n",
        "\n",
        "        train_predicted = torch.sigmoid(outputs) > 0.5\n",
        "        train_correct += (train_predicted.float() == labels).sum().item()\n",
        "        total_train_samples += labels.size(0)\n",
        "\n",
        "    avg_train_loss = total_loss / len(train_loader)\n",
        "    train_accuracy = 100. * train_correct / total_train_samples\n",
        "\n",
        "    # Validation\n",
        "    model.eval()\n",
        "    total_val_loss = 0.0\n",
        "    correct = 0\n",
        "    total = 0\n",
        "    with torch.no_grad():\n",
        "        for images, labels in val_loader:\n",
        "            images = images.cuda()\n",
        "            images = images / 255.\n",
        "            labels = labels.cuda()\n",
        "            outputs = model(images)\n",
        "\n",
        "            labels = labels.float().unsqueeze(1)\n",
        "\n",
        "            loss = criterion(outputs, labels)\n",
        "            total_val_loss += loss.item()\n",
        "\n",
        "            predicted = torch.sigmoid(outputs) > 0.5\n",
        "            correct += (predicted.float() == labels).sum().item()\n",
        "            total += labels.size(0)\n",
        "\n",
        "    avg_val_loss = total_val_loss / len(val_loader)\n",
        "    val_accuracy = 100. * correct / total\n",
        "\n",
        "    # Learning rate update\n",
        "    lr_scheduler.step()\n",
        "\n",
        "    # Checkpoint\n",
        "    if avg_val_loss < best_val_loss:\n",
        "        best_val_loss = avg_val_loss\n",
        "        torch.save(model.state_dict(), 'model_classification.pth')\n",
        "\n",
        "    if val_accuracy > best_val_acc:\n",
        "        best_val_acc = val_accuracy\n",
        "\n",
        "    print(f'Epoch {epoch+1}/{epochs}, Train loss: {avg_train_loss:.4f}, Train acc: {train_accuracy:.2f}%, Val loss: {avg_val_loss:.4f}, Val acc: {val_accuracy:.2f}%, Best Val loss: {best_val_loss:.4f} Best Val acc: {best_val_acc:.2f}%')\n",
        "\n",
        "    # Store performance\n",
        "    train_losses.append(avg_train_loss)\n",
        "    train_accuracies.append(train_accuracy)\n",
        "    val_losses.append(avg_val_loss)\n",
        "    val_accuracies.append(val_accuracy)"
      ]
    },
    {
      "cell_type": "markdown",
      "metadata": {
        "id": "pjmYxAJnxc6t"
      },
      "source": [
        "### Visualizing model performance"
      ]
    },
    {
      "cell_type": "code",
      "execution_count": 14,
      "metadata": {
        "id": "pHpS0Q7vxc6t",
        "outputId": "99d3f76e-caad-4936-f77b-44c27512f3e6",
        "colab": {
          "base_uri": "https://localhost:8080/",
          "height": 487
        }
      },
      "outputs": [
        {
          "output_type": "display_data",
          "data": {
            "text/plain": [
              "<Figure size 1500x500 with 2 Axes>"
            ],
            "image/png": "[encoded data removed]"
          },
          "metadata": {}
        }
      ],
      "source": [
        "import matplotlib.pyplot as plt\n",
        "\n",
        "fig, ax = plt.subplots(1, 2, figsize=(15, 5))\n",
        "\n",
        "# Plotting training and validation accuracy\n",
        "ax[0].plot(train_accuracies)\n",
        "ax[0].plot(val_accuracies)\n",
        "ax[0].set_title('Model Accuracy')\n",
        "ax[0].set_xlabel('Epochs')\n",
        "ax[0].set_ylabel('Accuracy')\n",
        "ax[0].legend(['Train', 'Val'])\n",
        "\n",
        "# Plotting training and validation loss\n",
        "ax[1].plot(train_losses)\n",
        "ax[1].plot(val_losses)\n",
        "ax[1].set_title('Model Loss')\n",
        "ax[1].set_xlabel('Epochs')\n",
        "ax[1].set_ylabel('Loss')\n",
        "ax[1].legend(['Train', 'Val'])\n",
        "\n",
        "plt.show()"
      ]
    },
    {
      "cell_type": "markdown",
      "metadata": {
        "id": "dm8RTyp3-BMx"
      },
      "source": [
        "## D. Evaluating Your Trained Model"
      ]
    },
    {
      "cell_type": "code",
      "execution_count": null,
      "metadata": {
        "id": "Ng2LR2Na-BMx",
        "colab": {
          "base_uri": "https://localhost:8080/"
        },
        "outputId": "7d410882-b2d3-48fa-8527-3bdc9ccec308"
      },
      "outputs": [
        {
          "output_type": "stream",
          "name": "stdout",
          "text": [
            "--2023-10-30 12:38:30--  https://raw.githubusercontent.com/TacoXDD/homeworks/master/dataset/test/test_normal.npy\n",
            "Resolving raw.githubusercontent.com (raw.githubusercontent.com)... 185.199.109.133, 185.199.111.133, 185.199.110.133, ...\n",
            "Connecting to raw.githubusercontent.com (raw.githubusercontent.com)|185.199.109.133|:443... connected.\n",
            "HTTP request sent, awaiting response... 200 OK\n",
            "Length: 13107328 (12M) [application/octet-stream]\n",
            "Saving to: ‘test_normal.npy’\n",
            "\n",
            "test_normal.npy     100%[===================>]  12.50M  --.-KB/s    in 0.06s   \n",
            "\n",
            "2023-10-30 12:38:31 (227 MB/s) - ‘test_normal.npy’ saved [13107328/13107328]\n",
            "\n",
            "--2023-10-30 12:38:31--  https://raw.githubusercontent.com/TacoXDD/homeworks/master/dataset/test/test_pneumonia.npy\n",
            "Resolving raw.githubusercontent.com (raw.githubusercontent.com)... 185.199.109.133, 185.199.111.133, 185.199.110.133, ...\n",
            "Connecting to raw.githubusercontent.com (raw.githubusercontent.com)|185.199.109.133|:443... connected.\n",
            "HTTP request sent, awaiting response... 200 OK\n",
            "Length: 13107328 (12M) [application/octet-stream]\n",
            "Saving to: ‘test_pneumonia.npy’\n",
            "\n",
            "test_pneumonia.npy  100%[===================>]  12.50M  --.-KB/s    in 0.06s   \n",
            "\n",
            "2023-10-30 12:38:32 (197 MB/s) - ‘test_pneumonia.npy’ saved [13107328/13107328]\n",
            "\n"
          ]
        }
      ],
      "source": [
        "# !wget https://raw.githubusercontent.com/TacoXDD/homeworks/master/dataset/test/test_normal.npy\n",
        "# !wget https://raw.githubusercontent.com/TacoXDD/homeworks/master/dataset/test/test_pneumonia.npy"
      ]
    },
    {
      "cell_type": "markdown",
      "metadata": {
        "id": "BrSyJHxB-BMx"
      },
      "source": [
        "### Process Test Dataset"
      ]
    },
    {
      "cell_type": "code",
      "execution_count": null,
      "metadata": {
        "id": "wIgSH2e1-BMy",
        "colab": {
          "base_uri": "https://localhost:8080/"
        },
        "outputId": "7239a58d-5555-4779-b991-f252ded02d21"
      },
      "outputs": [
        {
          "output_type": "stream",
          "name": "stdout",
          "text": [
            "Shape of test_abnormal: (200, 256, 256)\n",
            "Shape of test_normal: (200, 256, 256)\n",
            "Shape of x_test: (400, 256, 256)\n",
            "Shape of y_test: (400,)\n"
          ]
        }
      ],
      "source": [
        "# import torch\n",
        "# from torch.utils.data import DataLoader, TensorDataset, random_split\n",
        "# test_abnormal = np.load('test_pneumonia.npy')\n",
        "# test_normal = np.load('test_normal.npy')\n",
        "\n",
        "# print(f'Shape of test_abnormal: {test_abnormal.shape}')\n",
        "# print(f'Shape of test_normal: {test_normal.shape}')\n",
        "\n",
        "# # For the data having presence of pneumonia assign 1, for the normal ones assign 0.\n",
        "# test_abnormal_labels = np.ones((test_abnormal.shape[0],))\n",
        "# test_normal_labels = np.zeros((test_normal.shape[0],))\n",
        "\n",
        "# x_test = np.concatenate((test_abnormal, test_normal), axis=0)\n",
        "# y_test = np.concatenate((test_abnormal_labels, test_normal_labels), axis=0)\n",
        "\n",
        "# print(f'Shape of x_test: {x_test.shape}')\n",
        "# print(f'Shape of y_test: {y_test.shape}')\n",
        "\n",
        "# # Convert to PyTorch tensors\n",
        "# x_test = torch.from_numpy(x_test).float()\n",
        "# y_test = torch.from_numpy(y_test).long()\n",
        "\n",
        "# # Combine the images and labels into a dataset\n",
        "# test_dataset = TensorDataset(x_test, y_test)\n",
        "# # Create a dataloader to load data in batches. Set batch size to 32.\n",
        "# test_loader = DataLoader(test_dataset, batch_size=32, shuffle=True)"
      ]
    },
    {
      "cell_type": "markdown",
      "metadata": {
        "id": "1oIbLfu--BMy"
      },
      "source": [
        "### Load Trained Model and Evaluate"
      ]
    },
    {
      "cell_type": "code",
      "execution_count": null,
      "metadata": {
        "id": "uJQR0r2Q-BMy",
        "colab": {
          "base_uri": "https://localhost:8080/",
          "height": 421
        },
        "outputId": "ebf1475b-71ee-4bd5-f711-148fda4fb9c8"
      },
      "outputs": [
        {
          "output_type": "error",
          "ename": "RuntimeError",
          "evalue": "ignored",
          "traceback": [
            "\u001b[0;31m---------------------------------------------------------------------------\u001b[0m",
            "\u001b[0;31mRuntimeError\u001b[0m                              Traceback (most recent call last)",
            "\u001b[0;32m<ipython-input-81-b674fb6f27d4>\u001b[0m in \u001b[0;36m<cell line: 28>\u001b[0;34m()\u001b[0m\n\u001b[1;32m     26\u001b[0m \u001b[0;31m# Load the trained weights\u001b[0m\u001b[0;34m\u001b[0m\u001b[0;34m\u001b[0m\u001b[0m\n\u001b[1;32m     27\u001b[0m \u001b[0;31m# model.load_state_dict(torch.load('model_classification.pth'))\u001b[0m\u001b[0;34m\u001b[0m\u001b[0;34m\u001b[0m\u001b[0m\n\u001b[0;32m---> 28\u001b[0;31m \u001b[0mmodel\u001b[0m\u001b[0;34m.\u001b[0m\u001b[0mload_state_dict\u001b[0m\u001b[0;34m(\u001b[0m\u001b[0mtorch\u001b[0m\u001b[0;34m.\u001b[0m\u001b[0mload\u001b[0m\u001b[0;34m(\u001b[0m\u001b[0;34m'model_classification.pth'\u001b[0m\u001b[0;34m)\u001b[0m\u001b[0;34m)\u001b[0m\u001b[0;34m\u001b[0m\u001b[0;34m\u001b[0m\u001b[0m\n\u001b[0m\u001b[1;32m     29\u001b[0m \u001b[0;31m# Set the model to evaluation mode\u001b[0m\u001b[0;34m\u001b[0m\u001b[0;34m\u001b[0m\u001b[0m\n\u001b[1;32m     30\u001b[0m \u001b[0mmodel\u001b[0m\u001b[0;34m.\u001b[0m\u001b[0meval\u001b[0m\u001b[0;34m(\u001b[0m\u001b[0;34m)\u001b[0m\u001b[0;34m\u001b[0m\u001b[0;34m\u001b[0m\u001b[0m\n",
            "\u001b[0;32m/usr/local/lib/python3.10/dist-packages/torch/nn/modules/module.py\u001b[0m in \u001b[0;36mload_state_dict\u001b[0;34m(self, state_dict, strict, assign)\u001b[0m\n\u001b[1;32m   2150\u001b[0m \u001b[0;34m\u001b[0m\u001b[0m\n\u001b[1;32m   2151\u001b[0m         \u001b[0;32mif\u001b[0m \u001b[0mlen\u001b[0m\u001b[0;34m(\u001b[0m\u001b[0merror_msgs\u001b[0m\u001b[0;34m)\u001b[0m \u001b[0;34m>\u001b[0m \u001b[0;36m0\u001b[0m\u001b[0;34m:\u001b[0m\u001b[0;34m\u001b[0m\u001b[0;34m\u001b[0m\u001b[0m\n\u001b[0;32m-> 2152\u001b[0;31m             raise RuntimeError('Error(s) in loading state_dict for {}:\\n\\t{}'.format(\n\u001b[0m\u001b[1;32m   2153\u001b[0m                                self.__class__.__name__, \"\\n\\t\".join(error_msgs)))\n\u001b[1;32m   2154\u001b[0m         \u001b[0;32mreturn\u001b[0m \u001b[0m_IncompatibleKeys\u001b[0m\u001b[0;34m(\u001b[0m\u001b[0mmissing_keys\u001b[0m\u001b[0;34m,\u001b[0m \u001b[0munexpected_keys\u001b[0m\u001b[0;34m)\u001b[0m\u001b[0;34m\u001b[0m\u001b[0;34m\u001b[0m\u001b[0m\n",
            "\u001b[0;31mRuntimeError\u001b[0m: Error(s) in loading state_dict for Sequential:\n\tMissing key(s) in state_dict: \"1.weight\", \"1.bias\", \"2.weight\", \"2.bias\", \"2.running_mean\", \"2.running_var\", \"5.weight\", \"5.bias\", \"6.weight\", \"6.bias\", \"6.running_mean\", \"6.running_var\", \"9.weight\", \"9.bias\", \"10.weight\", \"10.bias\", \"10.running_mean\", \"10.running_var\", \"13.weight\", \"13.bias\". \n\tUnexpected key(s) in state_dict: \"conv1.weight\", \"conv1.bias\", \"conv2.weight\", \"conv2.bias\", \"conv3.weight\", \"conv3.bias\", \"fc1.weight\", \"fc1.bias\", \"fc2.weight\", \"fc2.bias\". "
          ]
        }
      ],
      "source": [
        "# test_correct = 0\n",
        "# test_total = 0\n",
        "\n",
        "# # Declare the model architecture\n",
        "# model = nn.Sequential(\n",
        "#     nn.Flatten(),\n",
        "\n",
        "#     nn.Linear(256*256*1, 64),\n",
        "#     nn.BatchNorm1d(64),\n",
        "#     nn.ReLU(),\n",
        "#     nn.Dropout(0.5),\n",
        "\n",
        "#     nn.Linear(64, 64),\n",
        "#     nn.BatchNorm1d(64),\n",
        "#     nn.ReLU(),\n",
        "#     nn.Dropout(0.5),\n",
        "\n",
        "#     nn.Linear(64, 64),\n",
        "#     nn.BatchNorm1d(64),\n",
        "#     nn.ReLU(),\n",
        "#     nn.Dropout(0.5),\n",
        "\n",
        "#     nn.Linear(64, 1)\n",
        "# ).cuda()\n",
        "\n",
        "# # Load the trained weights\n",
        "# model.load_state_dict(torch.load('model_classification.pth'))\n",
        "\n",
        "# # Set the model to evaluation mode\n",
        "# model.eval()\n",
        "# for i in range(10):\n",
        "#   import matplotlib.pyplot as plt\n",
        "#   index = np.random.randint(0, len(x_test))\n",
        "#   print(f'Take # {index} as test image.')\n",
        "\n",
        "#   # Normalize the image just like during training\n",
        "#   test_image = (x_test[index] / 255.0).clone().detach().float().cuda()\n",
        "#   test_image = test_image.unsqueeze(0)  # add batch dimension\n",
        "# with torch.no_grad():\n",
        "#     for images, labels in train_loader:\n",
        "\n",
        "#         images = images.cuda()\n",
        "#         images = images / 255.\n",
        "\n",
        "#         labels = labels.cuda()\n",
        "\n",
        "#         outputs = model(images)\n",
        "\n",
        "#         labels_float = labels.float().unsqueeze(1)  # Convert labels to float and match shape with outputs\n",
        "#         predicted = torch.sigmoid(outputs) > 0.5\n",
        "\n",
        "#         test_correct += (predicted.float() == labels_float).sum().item()\n",
        "#         test_total += labels.size(0)\n",
        "\n",
        "# print(f'Test accuracy is {test_correct}%.')"
      ]
    },
    {
      "cell_type": "code",
      "execution_count": null,
      "metadata": {
        "id": "OM2UAkTK-BMy"
      },
      "outputs": [],
      "source": []
    }
  ],
  "metadata": {
    "accelerator": "GPU",
    "colab": {
      "gpuType": "T4",
      "provenance": []
    },
    "kernelspec": {
      "display_name": "Python 3 (ipykernel)",
      "language": "python",
      "name": "python3"
    },
    "language_info": {
      "codemirror_mode": {
        "name": "ipython",
        "version": 3
      },
      "file_extension": ".py",
      "mimetype": "text/x-python",
      "name": "python",
      "nbconvert_exporter": "python",
      "pygments_lexer": "ipython3",
      "version": "3.8.13"
    },
    "widgets": {
      "application/vnd.jupyter.widget-state+json": {
        "eccbb769975f4b55bf10c519e9a10dad": {
          "model_module": "@jupyter-widgets/controls",
          "model_name": "HBoxModel",
          "model_module_version": "1.5.0",
          "state": {
            "_dom_classes": [],
            "_model_module": "@jupyter-widgets/controls",
            "_model_module_version": "1.5.0",
            "_model_name": "HBoxModel",
            "_view_count": null,
            "_view_module": "@jupyter-widgets/controls",
            "_view_module_version": "1.5.0",
            "_view_name": "HBoxView",
            "box_style": "",
            "children": [
              "IPY_MODEL_3f98bbf5a6f3426ba89205f4db72a6d4",
              "IPY_MODEL_755de3373b6b4f4da0e1ea5b2c103450",
              "IPY_MODEL_363d7b240be04aee8eb0931446f62da9"
            ],
            "layout": "IPY_MODEL_9a8daec72396422c98f1e1837e411e5c"
          }
        },
        "3f98bbf5a6f3426ba89205f4db72a6d4": {
          "model_module": "@jupyter-widgets/controls",
          "model_name": "HTMLModel",
          "model_module_version": "1.5.0",
          "state": {
            "_dom_classes": [],
            "_model_module": "@jupyter-widgets/controls",
            "_model_module_version": "1.5.0",
            "_model_name": "HTMLModel",
            "_view_count": null,
            "_view_module": "@jupyter-widgets/controls",
            "_view_module_version": "1.5.0",
            "_view_name": "HTMLView",
            "description": "",
            "description_tooltip": null,
            "layout": "IPY_MODEL_ca0b4b8333b54ecc8bec91683178b2b2",
            "placeholder": "​",
            "style": "IPY_MODEL_c53580eba30843d19422addad13f0abd",
            "value": "100%"
          }
        },
        "755de3373b6b4f4da0e1ea5b2c103450": {
          "model_module": "@jupyter-widgets/controls",
          "model_name": "FloatProgressModel",
          "model_module_version": "1.5.0",
          "state": {
            "_dom_classes": [],
            "_model_module": "@jupyter-widgets/controls",
            "_model_module_version": "1.5.0",
            "_model_name": "FloatProgressModel",
            "_view_count": null,
            "_view_module": "@jupyter-widgets/controls",
            "_view_module_version": "1.5.0",
            "_view_name": "ProgressView",
            "bar_style": "success",
            "description": "",
            "description_tooltip": null,
            "layout": "IPY_MODEL_c58e5497b8ab4becbf7a02d90f0f30b7",
            "max": 30,
            "min": 0,
            "orientation": "horizontal",
            "style": "IPY_MODEL_c07a1504bd4a43b49d37548657a3aefb",
            "value": 30
          }
        },
        "363d7b240be04aee8eb0931446f62da9": {
          "model_module": "@jupyter-widgets/controls",
          "model_name": "HTMLModel",
          "model_module_version": "1.5.0",
          "state": {
            "_dom_classes": [],
            "_model_module": "@jupyter-widgets/controls",
            "_model_module_version": "1.5.0",
            "_model_name": "HTMLModel",
            "_view_count": null,
            "_view_module": "@jupyter-widgets/controls",
            "_view_module_version": "1.5.0",
            "_view_name": "HTMLView",
            "description": "",
            "description_tooltip": null,
            "layout": "IPY_MODEL_4cd80e66fbb843d69cbe674182ea93e4",
            "placeholder": "​",
            "style": "IPY_MODEL_d10ff9323cc94a1cb2fa9e8a35eb2061",
            "value": " 30/30 [01:17&lt;00:00,  2.60s/it]"
          }
        },
        "9a8daec72396422c98f1e1837e411e5c": {
          "model_module": "@jupyter-widgets/base",
          "model_name": "LayoutModel",
          "model_module_version": "1.2.0",
          "state": {
            "_model_module": "@jupyter-widgets/base",
            "_model_module_version": "1.2.0",
            "_model_name": "LayoutModel",
            "_view_count": null,
            "_view_module": "@jupyter-widgets/base",
            "_view_module_version": "1.2.0",
            "_view_name": "LayoutView",
            "align_content": null,
            "align_items": null,
            "align_self": null,
            "border": null,
            "bottom": null,
            "display": null,
            "flex": null,
            "flex_flow": null,
            "grid_area": null,
            "grid_auto_columns": null,
            "grid_auto_flow": null,
            "grid_auto_rows": null,
            "grid_column": null,
            "grid_gap": null,
            "grid_row": null,
            "grid_template_areas": null,
            "grid_template_columns": null,
            "grid_template_rows": null,
            "height": null,
            "justify_content": null,
            "justify_items": null,
            "left": null,
            "margin": null,
            "max_height": null,
            "max_width": null,
            "min_height": null,
            "min_width": null,
            "object_fit": null,
            "object_position": null,
            "order": null,
            "overflow": null,
            "overflow_x": null,
            "overflow_y": null,
            "padding": null,
            "right": null,
            "top": null,
            "visibility": null,
            "width": null
          }
        },
        "ca0b4b8333b54ecc8bec91683178b2b2": {
          "model_module": "@jupyter-widgets/base",
          "model_name": "LayoutModel",
          "model_module_version": "1.2.0",
          "state": {
            "_model_module": "@jupyter-widgets/base",
            "_model_module_version": "1.2.0",
            "_model_name": "LayoutModel",
            "_view_count": null,
            "_view_module": "@jupyter-widgets/base",
            "_view_module_version": "1.2.0",
            "_view_name": "LayoutView",
            "align_content": null,
            "align_items": null,
            "align_self": null,
            "border": null,
            "bottom": null,
            "display": null,
            "flex": null,
            "flex_flow": null,
            "grid_area": null,
            "grid_auto_columns": null,
            "grid_auto_flow": null,
            "grid_auto_rows": null,
            "grid_column": null,
            "grid_gap": null,
            "grid_row": null,
            "grid_template_areas": null,
            "grid_template_columns": null,
            "grid_template_rows": null,
            "height": null,
            "justify_content": null,
            "justify_items": null,
            "left": null,
            "margin": null,
            "max_height": null,
            "max_width": null,
            "min_height": null,
            "min_width": null,
            "object_fit": null,
            "object_position": null,
            "order": null,
            "overflow": null,
            "overflow_x": null,
            "overflow_y": null,
            "padding": null,
            "right": null,
            "top": null,
            "visibility": null,
            "width": null
          }
        },
        "c53580eba30843d19422addad13f0abd": {
          "model_module": "@jupyter-widgets/controls",
          "model_name": "DescriptionStyleModel",
          "model_module_version": "1.5.0",
          "state": {
            "_model_module": "@jupyter-widgets/controls",
            "_model_module_version": "1.5.0",
            "_model_name": "DescriptionStyleModel",
            "_view_count": null,
            "_view_module": "@jupyter-widgets/base",
            "_view_module_version": "1.2.0",
            "_view_name": "StyleView",
            "description_width": ""
          }
        },
        "c58e5497b8ab4becbf7a02d90f0f30b7": {
          "model_module": "@jupyter-widgets/base",
          "model_name": "LayoutModel",
          "model_module_version": "1.2.0",
          "state": {
            "_model_module": "@jupyter-widgets/base",
            "_model_module_version": "1.2.0",
            "_model_name": "LayoutModel",
            "_view_count": null,
            "_view_module": "@jupyter-widgets/base",
            "_view_module_version": "1.2.0",
            "_view_name": "LayoutView",
            "align_content": null,
            "align_items": null,
            "align_self": null,
            "border": null,
            "bottom": null,
            "display": null,
            "flex": null,
            "flex_flow": null,
            "grid_area": null,
            "grid_auto_columns": null,
            "grid_auto_flow": null,
            "grid_auto_rows": null,
            "grid_column": null,
            "grid_gap": null,
            "grid_row": null,
            "grid_template_areas": null,
            "grid_template_columns": null,
            "grid_template_rows": null,
            "height": null,
            "justify_content": null,
            "justify_items": null,
            "left": null,
            "margin": null,
            "max_height": null,
            "max_width": null,
            "min_height": null,
            "min_width": null,
            "object_fit": null,
            "object_position": null,
            "order": null,
            "overflow": null,
            "overflow_x": null,
            "overflow_y": null,
            "padding": null,
            "right": null,
            "top": null,
            "visibility": null,
            "width": null
          }
        },
        "c07a1504bd4a43b49d37548657a3aefb": {
          "model_module": "@jupyter-widgets/controls",
          "model_name": "ProgressStyleModel",
          "model_module_version": "1.5.0",
          "state": {
            "_model_module": "@jupyter-widgets/controls",
            "_model_module_version": "1.5.0",
            "_model_name": "ProgressStyleModel",
            "_view_count": null,
            "_view_module": "@jupyter-widgets/base",
            "_view_module_version": "1.2.0",
            "_view_name": "StyleView",
            "bar_color": null,
            "description_width": ""
          }
        },
        "4cd80e66fbb843d69cbe674182ea93e4": {
          "model_module": "@jupyter-widgets/base",
          "model_name": "LayoutModel",
          "model_module_version": "1.2.0",
          "state": {
            "_model_module": "@jupyter-widgets/base",
            "_model_module_version": "1.2.0",
            "_model_name": "LayoutModel",
            "_view_count": null,
            "_view_module": "@jupyter-widgets/base",
            "_view_module_version": "1.2.0",
            "_view_name": "LayoutView",
            "align_content": null,
            "align_items": null,
            "align_self": null,
            "border": null,
            "bottom": null,
            "display": null,
            "flex": null,
            "flex_flow": null,
            "grid_area": null,
            "grid_auto_columns": null,
            "grid_auto_flow": null,
            "grid_auto_rows": null,
            "grid_column": null,
            "grid_gap": null,
            "grid_row": null,
            "grid_template_areas": null,
            "grid_template_columns": null,
            "grid_template_rows": null,
            "height": null,
            "justify_content": null,
            "justify_items": null,
            "left": null,
            "margin": null,
            "max_height": null,
            "max_width": null,
            "min_height": null,
            "min_width": null,
            "object_fit": null,
            "object_position": null,
            "order": null,
            "overflow": null,
            "overflow_x": null,
            "overflow_y": null,
            "padding": null,
            "right": null,
            "top": null,
            "visibility": null,
            "width": null
          }
        },
        "d10ff9323cc94a1cb2fa9e8a35eb2061": {
          "model_module": "@jupyter-widgets/controls",
          "model_name": "DescriptionStyleModel",
          "model_module_version": "1.5.0",
          "state": {
            "_model_module": "@jupyter-widgets/controls",
            "_model_module_version": "1.5.0",
            "_model_name": "DescriptionStyleModel",
            "_view_count": null,
            "_view_module": "@jupyter-widgets/base",
            "_view_module_version": "1.2.0",
            "_view_name": "StyleView",
            "description_width": ""
          }
        }
      }
    }
  },
  "nbformat": 4,
  "nbformat_minor": 0
}